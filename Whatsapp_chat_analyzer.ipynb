{
 "cells": [
  {
   "cell_type": "code",
   "execution_count": null,
   "id": "20883502",
   "metadata": {},
   "outputs": [],
   "source": [
    "import pandas as pd\n",
    "import numpy as np\n",
    "import matplotlib.pyplot as plt\n",
    "pd.set_option('display.max_columns', None)\n",
    "pd.set_option('display.max_rows', None)"
   ]
  },
  {
   "cell_type": "code",
   "execution_count": null,
   "id": "96e058a9",
   "metadata": {},
   "outputs": [],
   "source": [
    "file = open('./Data/WhatsApp Chat with Bse_Nse 🤑.txt', 'r', encoding='utf-8')"
   ]
  },
  {
   "cell_type": "code",
   "execution_count": null,
   "id": "805ba625",
   "metadata": {},
   "outputs": [],
   "source": [
    "data = file.read()"
   ]
  },
  {
   "cell_type": "code",
   "execution_count": null,
   "id": "b682af1c",
   "metadata": {},
   "outputs": [],
   "source": [
    "print(data)"
   ]
  },
  {
   "cell_type": "code",
   "execution_count": null,
   "id": "c8a626c5",
   "metadata": {},
   "outputs": [],
   "source": [
    "import re"
   ]
  },
  {
   "cell_type": "code",
   "execution_count": null,
   "id": "23dc8921",
   "metadata": {},
   "outputs": [],
   "source": [
    "pattern = '\\d{1,2}/\\d{1,2}/\\d{2,4},\\s\\d{1,2}:\\d{1,2}\\s[a-z]{2}\\s-\\s'"
   ]
  },
  {
   "cell_type": "code",
   "execution_count": null,
   "id": "668f024f",
   "metadata": {},
   "outputs": [],
   "source": [
    "messages = re.split(pattern, data)[1:]\n",
    "len(messages)"
   ]
  },
  {
   "cell_type": "code",
   "execution_count": null,
   "id": "55b26a7c",
   "metadata": {},
   "outputs": [],
   "source": [
    "date_time = re.findall(pattern, data)"
   ]
  },
  {
   "cell_type": "code",
   "execution_count": null,
   "id": "06affeb9",
   "metadata": {},
   "outputs": [],
   "source": [
    "date_time = [x.replace('\\u202f', ' ') for x in date_time]"
   ]
  },
  {
   "cell_type": "code",
   "execution_count": null,
   "id": "ed4601a9",
   "metadata": {},
   "outputs": [],
   "source": [
    "date_time"
   ]
  },
  {
   "cell_type": "code",
   "execution_count": null,
   "id": "e8d332c1",
   "metadata": {},
   "outputs": [],
   "source": [
    "len(date_time)"
   ]
  },
  {
   "cell_type": "code",
   "execution_count": null,
   "id": "e9840acd",
   "metadata": {},
   "outputs": [],
   "source": [
    "df = pd.DataFrame({'USER_MESSAGES' : messages, 'DATE_TIME': date_time})"
   ]
  },
  {
   "cell_type": "code",
   "execution_count": null,
   "id": "86d2b61c",
   "metadata": {},
   "outputs": [],
   "source": [
    "df.head()"
   ]
  },
  {
   "cell_type": "code",
   "execution_count": null,
   "id": "b951fc70",
   "metadata": {},
   "outputs": [],
   "source": [
    "df['DATE_TIME'] = pd.to_datetime(df['DATE_TIME'], format= '%d/%m/%y, %I:%M %p - ')"
   ]
  },
  {
   "cell_type": "code",
   "execution_count": null,
   "id": "4cea8533",
   "metadata": {},
   "outputs": [],
   "source": [
    "df.head()"
   ]
  },
  {
   "cell_type": "code",
   "execution_count": null,
   "id": "cfc2cc6e",
   "metadata": {},
   "outputs": [],
   "source": [
    "df['YEAR'] = df.DATE_TIME.dt.year\n",
    "df['MONTH'] = df.DATE_TIME.dt.month_name()\n",
    "df['DAY'] = df.DATE_TIME.dt.day\n",
    "df['HOUR'] = df.DATE_TIME.dt.hour\n",
    "df['MINUTE'] = df.DATE_TIME.dt.minute"
   ]
  },
  {
   "cell_type": "code",
   "execution_count": null,
   "id": "0516318b",
   "metadata": {},
   "outputs": [],
   "source": [
    "df.head()"
   ]
  },
  {
   "cell_type": "code",
   "execution_count": null,
   "id": "3d4a557f",
   "metadata": {},
   "outputs": [],
   "source": [
    "df.USER_MESSAGES.head(20).to_list()"
   ]
  },
  {
   "cell_type": "code",
   "execution_count": null,
   "id": "ee17e825",
   "metadata": {},
   "outputs": [],
   "source": [
    "df[['USERNAME', 'MESSAGE']] = df[df.USER_MESSAGES.str.contains(':')].USER_MESSAGES.str.split(':', 1, expand=True)\n",
    "df['USERNAME'] = np.where(~df.USER_MESSAGES.str.contains(':'), 'Notification', df['USERNAME'])\n",
    "df['MESSAGE'] = np.where(~df.USER_MESSAGES.str.contains(':'), df.USER_MESSAGES, df['MESSAGE'])"
   ]
  },
  {
   "cell_type": "code",
   "execution_count": null,
   "id": "ce43b305",
   "metadata": {},
   "outputs": [],
   "source": [
    "df.head(50)"
   ]
  },
  {
   "cell_type": "code",
   "execution_count": null,
   "id": "1e8b8cc6",
   "metadata": {},
   "outputs": [],
   "source": [
    "df.MESSAGE.to_list()"
   ]
  },
  {
   "cell_type": "code",
   "execution_count": null,
   "id": "47f45216",
   "metadata": {},
   "outputs": [],
   "source": [
    "df.shape"
   ]
  },
  {
   "cell_type": "code",
   "execution_count": null,
   "id": "43e53341",
   "metadata": {},
   "outputs": [],
   "source": [
    "df.MESSAGE.str.split().str.len().sum()"
   ]
  },
  {
   "cell_type": "code",
   "execution_count": null,
   "id": "c47a15c4",
   "metadata": {},
   "outputs": [],
   "source": [
    "df[df.MESSAGE == ' <Media omitted>\\n']"
   ]
  },
  {
   "cell_type": "code",
   "execution_count": null,
   "id": "e895ba5f",
   "metadata": {},
   "outputs": [],
   "source": [
    "cs = ' '.join(df.MESSAGE)"
   ]
  },
  {
   "cell_type": "code",
   "execution_count": null,
   "id": "ab1822bb",
   "metadata": {},
   "outputs": [],
   "source": [
    "# !pip install urlextract"
   ]
  },
  {
   "cell_type": "code",
   "execution_count": null,
   "id": "bd6fbd11",
   "metadata": {},
   "outputs": [],
   "source": [
    "from urlextract import URLExtract"
   ]
  },
  {
   "cell_type": "code",
   "execution_count": null,
   "id": "ac392266",
   "metadata": {},
   "outputs": [],
   "source": [
    "extractor = URLExtract()\n",
    "urls = extractor.find_urls(cs)"
   ]
  },
  {
   "cell_type": "code",
   "execution_count": null,
   "id": "0e625336",
   "metadata": {},
   "outputs": [],
   "source": [
    "len(urls)"
   ]
  },
  {
   "cell_type": "code",
   "execution_count": null,
   "id": "8f04459b",
   "metadata": {},
   "outputs": [],
   "source": [
    "# Dictionary storing emoji counts \n",
    "from collections import defaultdict\n",
    "emoji_count = defaultdict(int)\n",
    "for i in df['MESSAGE']:\n",
    "    for emoji in re.findall(u'[\\U0001f300-\\U0001f650]|[\\u2000-\\u3000]', i):\n",
    "        emoji_count[emoji] += 1\n",
    "\n",
    "print (emoji_count)"
   ]
  },
  {
   "cell_type": "code",
   "execution_count": null,
   "id": "0eaabbd8",
   "metadata": {},
   "outputs": [],
   "source": [
    "pd.DataFrame({'Emoji' : emoji_count.keys(), 'Counts' : emoji_count.values()})"
   ]
  },
  {
   "cell_type": "code",
   "execution_count": null,
   "id": "1af4919d",
   "metadata": {},
   "outputs": [],
   "source": [
    "dict(sorted(emoji_count.items(), key= lambda x: x[1], reverse=True)[:20])"
   ]
  },
  {
   "cell_type": "code",
   "execution_count": null,
   "id": "9e1575b9",
   "metadata": {},
   "outputs": [],
   "source": [
    "df.USERNAME.value_counts().sort_values(ascending=False).nlargest(10)"
   ]
  },
  {
   "cell_type": "code",
   "execution_count": null,
   "id": "7b310aa3",
   "metadata": {},
   "outputs": [],
   "source": [
    "pd.DataFrame({'No. of Messages' : df.USERNAME.value_counts().sort_values(ascending=False).nlargest(10)})"
   ]
  },
  {
   "cell_type": "code",
   "execution_count": null,
   "id": "fc18ce8c",
   "metadata": {},
   "outputs": [],
   "source": [
    "import wordcloud"
   ]
  },
  {
   "cell_type": "code",
   "execution_count": null,
   "id": "8860ab56",
   "metadata": {},
   "outputs": [],
   "source": [
    "str_messages = ''\n",
    "str_messages += \" \".join(df.MESSAGE) + \" \""
   ]
  },
  {
   "cell_type": "code",
   "execution_count": null,
   "id": "f177cd29",
   "metadata": {},
   "outputs": [],
   "source": [
    "str_messages_lower_case = str_messages.lower()"
   ]
  },
  {
   "cell_type": "code",
   "execution_count": null,
   "id": "5c13a2c4",
   "metadata": {},
   "outputs": [],
   "source": [
    "wc = wordcloud.WordCloud(width = 800, height = 800,\n",
    "                background_color ='white',\n",
    "                stopwords = wordcloud.STOPWORDS,\n",
    "                min_font_size = 10).generate(str_messages_lower_case)"
   ]
  },
  {
   "cell_type": "code",
   "execution_count": null,
   "id": "932cc208",
   "metadata": {},
   "outputs": [],
   "source": [
    "plt.figure(figsize=(8,8), facecolor=None)\n",
    "plt.imshow(wc)\n",
    "plt.axis(\"off\")\n",
    "plt.tight_layout(pad = 0)\n",
    "plt.show()"
   ]
  },
  {
   "cell_type": "code",
   "execution_count": null,
   "id": "e1dcde70",
   "metadata": {},
   "outputs": [],
   "source": [
    "df.head()"
   ]
  },
  {
   "cell_type": "code",
   "execution_count": null,
   "id": "77e5ab75",
   "metadata": {},
   "outputs": [],
   "source": [
    "df[\"DAY_NAME\"] = df.DATE_TIME.dt.day_name()"
   ]
  },
  {
   "cell_type": "code",
   "execution_count": null,
   "id": "a440dc23",
   "metadata": {},
   "outputs": [],
   "source": [
    "df.head()"
   ]
  },
  {
   "cell_type": "code",
   "execution_count": null,
   "id": "58259be3",
   "metadata": {},
   "outputs": [],
   "source": [
    "day_wise_counts = df.groupby(['DAY_NAME'])['MESSAGE'].count()"
   ]
  },
  {
   "cell_type": "code",
   "execution_count": null,
   "id": "b3e691e4",
   "metadata": {},
   "outputs": [],
   "source": [
    "day_wise_counts = day_wise_counts.reset_index()\n",
    "day_wise_counts['DAY_NAME'] = day_wise_counts['DAY_NAME'].apply(lambda x: x[:3])"
   ]
  },
  {
   "cell_type": "code",
   "execution_count": null,
   "id": "e7fbd462",
   "metadata": {},
   "outputs": [],
   "source": [
    "day_wise_counts.drop(['level_0', 'index'], axis=1, inplace=True)\n",
    "day_wise_counts.set_index('DAY_NAME', inplace=True)"
   ]
  },
  {
   "cell_type": "code",
   "execution_count": null,
   "id": "1fdde608",
   "metadata": {},
   "outputs": [],
   "source": [
    "day_wise_counts"
   ]
  },
  {
   "cell_type": "code",
   "execution_count": null,
   "id": "62591c8f",
   "metadata": {},
   "outputs": [],
   "source": [
    "day_wise_counts.reindex(['Mon', 'Tue', 'Wed', 'Thu', 'Fri', 'Sat', 'Sun'])"
   ]
  },
  {
   "cell_type": "code",
   "execution_count": null,
   "id": "3cdc6c47",
   "metadata": {},
   "outputs": [],
   "source": [
    "day_wise_counts = df.groupby(['DAY_NAME'])['MESSAGE'].count().reset_index(drop=True).set_index(['Mon', 'Tue', 'Wed', 'Thu', 'Fri', 'Sat', 'Sun'])"
   ]
  },
  {
   "cell_type": "code",
   "execution_count": null,
   "id": "a816c9b9",
   "metadata": {},
   "outputs": [],
   "source": [
    "day_wise_counts.values"
   ]
  },
  {
   "cell_type": "code",
   "execution_count": null,
   "id": "06383370",
   "metadata": {},
   "outputs": [],
   "source": [
    "day_wise_counts.plot(kind='bar')"
   ]
  },
  {
   "cell_type": "code",
   "execution_count": null,
   "id": "ce2176dd",
   "metadata": {},
   "outputs": [],
   "source": [
    "import calendar"
   ]
  },
  {
   "cell_type": "code",
   "execution_count": null,
   "id": "edff79e7",
   "metadata": {},
   "outputs": [],
   "source": [
    "df.MONTH.unique()"
   ]
  },
  {
   "cell_type": "code",
   "execution_count": null,
   "id": "d2cf0e9d",
   "metadata": {},
   "outputs": [],
   "source": [
    "df.groupby('MONTH')['MESSAGE'].count()"
   ]
  },
  {
   "cell_type": "code",
   "execution_count": null,
   "id": "8155ab3a",
   "metadata": {},
   "outputs": [],
   "source": [
    "temp = df[df.USERNAME == 'Sahil'].groupby('MONTH')['MESSAGE'].count()"
   ]
  },
  {
   "cell_type": "code",
   "execution_count": null,
   "id": "d0d20369",
   "metadata": {},
   "outputs": [],
   "source": [
    "temp.reset_index()"
   ]
  },
  {
   "cell_type": "code",
   "execution_count": null,
   "id": "e74b92b2",
   "metadata": {},
   "outputs": [],
   "source": []
  },
  {
   "cell_type": "code",
   "execution_count": null,
   "id": "28d62f17",
   "metadata": {},
   "outputs": [],
   "source": []
  },
  {
   "cell_type": "code",
   "execution_count": null,
   "id": "c9d133eb",
   "metadata": {},
   "outputs": [],
   "source": [
    "month_set = set()\n",
    "for x in df.MONTH.unique():\n",
    "    month_set.add(x[:3])\n"
   ]
  },
  {
   "cell_type": "code",
   "execution_count": null,
   "id": "fcb08744",
   "metadata": {},
   "outputs": [],
   "source": []
  },
  {
   "cell_type": "code",
   "execution_count": null,
   "id": "9d305eeb",
   "metadata": {},
   "outputs": [],
   "source": []
  },
  {
   "cell_type": "code",
   "execution_count": null,
   "id": "26f0b13e",
   "metadata": {},
   "outputs": [],
   "source": []
  },
  {
   "cell_type": "code",
   "execution_count": null,
   "id": "e5cfd15d",
   "metadata": {},
   "outputs": [],
   "source": []
  },
  {
   "cell_type": "code",
   "execution_count": null,
   "id": "c1a9ec4a",
   "metadata": {},
   "outputs": [],
   "source": []
  },
  {
   "cell_type": "code",
   "execution_count": null,
   "id": "5358ef61",
   "metadata": {},
   "outputs": [],
   "source": []
  },
  {
   "cell_type": "code",
   "execution_count": null,
   "id": "410f6281",
   "metadata": {},
   "outputs": [],
   "source": []
  },
  {
   "cell_type": "code",
   "execution_count": null,
   "id": "abf0d3a0",
   "metadata": {},
   "outputs": [],
   "source": []
  },
  {
   "cell_type": "code",
   "execution_count": null,
   "id": "2489521a",
   "metadata": {},
   "outputs": [],
   "source": []
  },
  {
   "cell_type": "code",
   "execution_count": null,
   "id": "b6583710",
   "metadata": {},
   "outputs": [],
   "source": []
  },
  {
   "cell_type": "code",
   "execution_count": null,
   "id": "50aada9c",
   "metadata": {},
   "outputs": [],
   "source": []
  },
  {
   "cell_type": "code",
   "execution_count": null,
   "id": "032f2cdf",
   "metadata": {},
   "outputs": [],
   "source": []
  },
  {
   "cell_type": "code",
   "execution_count": null,
   "id": "8faebddd",
   "metadata": {},
   "outputs": [],
   "source": []
  },
  {
   "cell_type": "code",
   "execution_count": null,
   "id": "dc8ac721",
   "metadata": {},
   "outputs": [],
   "source": []
  },
  {
   "cell_type": "code",
   "execution_count": null,
   "id": "3a9ed456",
   "metadata": {},
   "outputs": [],
   "source": []
  },
  {
   "cell_type": "code",
   "execution_count": null,
   "id": "3c149796",
   "metadata": {},
   "outputs": [],
   "source": []
  },
  {
   "cell_type": "code",
   "execution_count": null,
   "id": "51e27294",
   "metadata": {},
   "outputs": [],
   "source": []
  },
  {
   "cell_type": "code",
   "execution_count": null,
   "id": "4467fc59",
   "metadata": {},
   "outputs": [],
   "source": []
  },
  {
   "cell_type": "code",
   "execution_count": null,
   "id": "66b1da50",
   "metadata": {},
   "outputs": [],
   "source": []
  },
  {
   "cell_type": "code",
   "execution_count": null,
   "id": "6832bef6",
   "metadata": {},
   "outputs": [],
   "source": []
  },
  {
   "cell_type": "code",
   "execution_count": null,
   "id": "57c42695",
   "metadata": {},
   "outputs": [],
   "source": []
  },
  {
   "cell_type": "code",
   "execution_count": null,
   "id": "44b01570",
   "metadata": {},
   "outputs": [],
   "source": []
  },
  {
   "cell_type": "code",
   "execution_count": null,
   "id": "45578eae",
   "metadata": {},
   "outputs": [],
   "source": []
  },
  {
   "cell_type": "code",
   "execution_count": null,
   "id": "ec128beb",
   "metadata": {},
   "outputs": [],
   "source": []
  },
  {
   "cell_type": "code",
   "execution_count": null,
   "id": "835ad948",
   "metadata": {},
   "outputs": [],
   "source": []
  },
  {
   "cell_type": "code",
   "execution_count": null,
   "id": "4d4620ab",
   "metadata": {},
   "outputs": [],
   "source": []
  },
  {
   "cell_type": "code",
   "execution_count": null,
   "id": "d7f95e3c",
   "metadata": {},
   "outputs": [],
   "source": []
  },
  {
   "cell_type": "code",
   "execution_count": null,
   "id": "266c349d",
   "metadata": {},
   "outputs": [],
   "source": []
  },
  {
   "cell_type": "code",
   "execution_count": null,
   "id": "35e8ebb4",
   "metadata": {},
   "outputs": [],
   "source": []
  },
  {
   "cell_type": "code",
   "execution_count": null,
   "id": "b9417171",
   "metadata": {},
   "outputs": [],
   "source": []
  },
  {
   "cell_type": "code",
   "execution_count": null,
   "id": "87901769",
   "metadata": {},
   "outputs": [],
   "source": []
  },
  {
   "cell_type": "code",
   "execution_count": null,
   "id": "fead3446",
   "metadata": {},
   "outputs": [],
   "source": []
  },
  {
   "cell_type": "code",
   "execution_count": null,
   "id": "eb5a0392",
   "metadata": {},
   "outputs": [],
   "source": []
  },
  {
   "cell_type": "code",
   "execution_count": null,
   "id": "06e167e4",
   "metadata": {},
   "outputs": [],
   "source": []
  },
  {
   "cell_type": "code",
   "execution_count": null,
   "id": "26edce76",
   "metadata": {},
   "outputs": [],
   "source": []
  },
  {
   "cell_type": "code",
   "execution_count": null,
   "id": "3c5ca5d6",
   "metadata": {},
   "outputs": [],
   "source": []
  },
  {
   "cell_type": "code",
   "execution_count": null,
   "id": "4f9387d1",
   "metadata": {},
   "outputs": [],
   "source": []
  },
  {
   "cell_type": "code",
   "execution_count": null,
   "id": "56ef650f",
   "metadata": {},
   "outputs": [],
   "source": []
  },
  {
   "cell_type": "code",
   "execution_count": null,
   "id": "5b43f87d",
   "metadata": {},
   "outputs": [],
   "source": []
  },
  {
   "cell_type": "code",
   "execution_count": null,
   "id": "2f5759e5",
   "metadata": {},
   "outputs": [],
   "source": []
  },
  {
   "cell_type": "code",
   "execution_count": null,
   "id": "b93e2a1d",
   "metadata": {},
   "outputs": [],
   "source": []
  },
  {
   "cell_type": "code",
   "execution_count": null,
   "id": "8a4e6cc8",
   "metadata": {},
   "outputs": [],
   "source": []
  },
  {
   "cell_type": "code",
   "execution_count": null,
   "id": "694f82db",
   "metadata": {},
   "outputs": [],
   "source": []
  },
  {
   "cell_type": "code",
   "execution_count": null,
   "id": "b9c57110",
   "metadata": {},
   "outputs": [],
   "source": []
  },
  {
   "cell_type": "code",
   "execution_count": null,
   "id": "bdbc5be4",
   "metadata": {},
   "outputs": [],
   "source": []
  },
  {
   "cell_type": "code",
   "execution_count": null,
   "id": "4d5ea451",
   "metadata": {},
   "outputs": [],
   "source": []
  },
  {
   "cell_type": "code",
   "execution_count": null,
   "id": "f03adb3a",
   "metadata": {},
   "outputs": [],
   "source": []
  },
  {
   "cell_type": "code",
   "execution_count": null,
   "id": "e483a55f",
   "metadata": {},
   "outputs": [],
   "source": []
  },
  {
   "cell_type": "code",
   "execution_count": null,
   "id": "869f9a80",
   "metadata": {},
   "outputs": [],
   "source": []
  },
  {
   "cell_type": "code",
   "execution_count": null,
   "id": "543b14ed",
   "metadata": {},
   "outputs": [],
   "source": []
  },
  {
   "cell_type": "code",
   "execution_count": null,
   "id": "c1f56f1c",
   "metadata": {},
   "outputs": [],
   "source": []
  },
  {
   "cell_type": "code",
   "execution_count": null,
   "id": "af01b292",
   "metadata": {},
   "outputs": [],
   "source": []
  },
  {
   "cell_type": "code",
   "execution_count": null,
   "id": "350cd43b",
   "metadata": {},
   "outputs": [],
   "source": []
  },
  {
   "cell_type": "code",
   "execution_count": null,
   "id": "16bad3ea",
   "metadata": {},
   "outputs": [],
   "source": []
  },
  {
   "cell_type": "code",
   "execution_count": null,
   "id": "047db543",
   "metadata": {},
   "outputs": [],
   "source": []
  },
  {
   "cell_type": "code",
   "execution_count": null,
   "id": "4226c6e7",
   "metadata": {},
   "outputs": [],
   "source": []
  },
  {
   "cell_type": "code",
   "execution_count": null,
   "id": "99ad1ee9",
   "metadata": {},
   "outputs": [],
   "source": []
  },
  {
   "cell_type": "code",
   "execution_count": null,
   "id": "a652056b",
   "metadata": {},
   "outputs": [],
   "source": []
  },
  {
   "cell_type": "code",
   "execution_count": null,
   "id": "cd738ec0",
   "metadata": {},
   "outputs": [],
   "source": []
  },
  {
   "cell_type": "code",
   "execution_count": null,
   "id": "fdccf12e",
   "metadata": {},
   "outputs": [],
   "source": []
  },
  {
   "cell_type": "code",
   "execution_count": null,
   "id": "01e093f3",
   "metadata": {},
   "outputs": [],
   "source": []
  },
  {
   "cell_type": "code",
   "execution_count": null,
   "id": "73fdb040",
   "metadata": {},
   "outputs": [],
   "source": []
  },
  {
   "cell_type": "code",
   "execution_count": null,
   "id": "d095217b",
   "metadata": {},
   "outputs": [],
   "source": []
  },
  {
   "cell_type": "code",
   "execution_count": null,
   "id": "5430dda1",
   "metadata": {},
   "outputs": [],
   "source": []
  },
  {
   "cell_type": "code",
   "execution_count": null,
   "id": "02b283ce",
   "metadata": {},
   "outputs": [],
   "source": []
  },
  {
   "cell_type": "code",
   "execution_count": null,
   "id": "b41c8782",
   "metadata": {},
   "outputs": [],
   "source": []
  },
  {
   "cell_type": "code",
   "execution_count": null,
   "id": "ad41e9d4",
   "metadata": {},
   "outputs": [],
   "source": []
  },
  {
   "cell_type": "code",
   "execution_count": null,
   "id": "13324767",
   "metadata": {},
   "outputs": [],
   "source": []
  },
  {
   "cell_type": "code",
   "execution_count": null,
   "id": "1615eed6",
   "metadata": {},
   "outputs": [],
   "source": []
  },
  {
   "cell_type": "code",
   "execution_count": null,
   "id": "643c0120",
   "metadata": {},
   "outputs": [],
   "source": []
  },
  {
   "cell_type": "code",
   "execution_count": null,
   "id": "c88f71d3",
   "metadata": {},
   "outputs": [],
   "source": []
  }
 ],
 "metadata": {
  "kernelspec": {
   "display_name": "Python 3 (ipykernel)",
   "language": "python",
   "name": "python3"
  },
  "language_info": {
   "codemirror_mode": {
    "name": "ipython",
    "version": 3
   },
   "file_extension": ".py",
   "mimetype": "text/x-python",
   "name": "python",
   "nbconvert_exporter": "python",
   "pygments_lexer": "ipython3",
   "version": "3.9.7"
  }
 },
 "nbformat": 4,
 "nbformat_minor": 5
}
